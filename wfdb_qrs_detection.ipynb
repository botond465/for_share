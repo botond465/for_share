{
 "cells": [
  {
   "cell_type": "code",
   "execution_count": 1,
   "id": "df57fa96-1b2a-421f-9e7c-e0fdb00d1b3f",
   "metadata": {},
   "outputs": [],
   "source": [
    "import pandas as pd\n",
    "import plotly.graph_objects as go\n",
    "import numpy as np\n",
    "import wfdb\n",
    "from wfdb import processing\n",
    "from scipy import interpolate"
   ]
  },
  {
   "cell_type": "code",
   "execution_count": 2,
   "id": "a21fc304-efc0-4c68-ba65-4a5dfb549228",
   "metadata": {},
   "outputs": [
    {
     "name": "stdout",
     "output_type": "stream",
     "text": [
      "4.0.0a0\n"
     ]
    }
   ],
   "source": [
    "print(wfdb.__version__)"
   ]
  },
  {
   "cell_type": "markdown",
   "id": "50c2d04e-c3af-4ded-bdb6-4e6047534904",
   "metadata": {},
   "source": [
    "# Generated perfect 1000 Hz ECG signal"
   ]
  },
  {
   "cell_type": "code",
   "execution_count": 3,
   "id": "8e7f1182-6ed8-4a5d-8770-304598278e53",
   "metadata": {},
   "outputs": [],
   "source": [
    "ECG_data_clear = pd.read_csv('/path/to/ecg_data_clear.dat', sep=\" \", header=None)[0]\n",
    "raw_data_clear=ECG_data_clear.to_numpy('float')\n",
    "F_S=1000\n",
    "\n",
    "t=np.arange(np.size(raw_data_clear))/F_S"
   ]
  },
  {
   "cell_type": "code",
   "execution_count": 4,
   "id": "ee63d878-9fd4-4d28-896d-e5a40c32e8c7",
   "metadata": {},
   "outputs": [
    {
     "name": "stdout",
     "output_type": "stream",
     "text": [
      "Learning initial signal parameters...\n",
      "Failed to find 8 beats during learning.\n",
      "Initializing using default parameters\n",
      "Running QRS detection...\n",
      "QRS detection complete.\n"
     ]
    }
   ],
   "source": [
    "xqrs = processing.XQRS(sig=raw_data_clear, fs=F_S)\n",
    "xqrs.detect(learn=True)\n",
    "qrs_ind=xqrs.qrs_inds"
   ]
  },
  {
   "cell_type": "markdown",
   "id": "587a0b36-89ca-4b5c-a96b-179d007c3a34",
   "metadata": {},
   "source": [
    "## Failed to init signal parameters, but good output"
   ]
  },
  {
   "cell_type": "code",
   "execution_count": null,
   "id": "617b917d-1c28-479d-9495-95b87f3be265",
   "metadata": {},
   "outputs": [],
   "source": [
    "fig = go.Figure()\n",
    "fig.add_trace(go.Scatter(x=t, y=raw_data_clear,mode='lines',name='signal',line_color='#037ffc'))\n",
    "fig.add_trace(go.Scatter(x=qrs_ind/F_S, y=raw_data_clear[qrs_ind],mode='markers',name='r peak',line_color='#fc3103'))\n",
    "fig.show()"
   ]
  },
  {
   "cell_type": "markdown",
   "id": "faaa1e11-bf9f-4124-ad71-1fd87cf34f8d",
   "metadata": {},
   "source": [
    "# Interpolate perfect signal to 360 Hz"
   ]
  },
  {
   "cell_type": "code",
   "execution_count": 6,
   "id": "0caab14e-dc82-4776-944a-5576c4752baf",
   "metadata": {},
   "outputs": [
    {
     "name": "stdout",
     "output_type": "stream",
     "text": [
      "Learning initial signal parameters...\n",
      "Failed to find 8 beats during learning.\n",
      "Initializing using default parameters\n",
      "Running QRS detection...\n",
      "QRS detection complete.\n"
     ]
    }
   ],
   "source": [
    "f = interpolate.interp1d(t, raw_data_clear)\n",
    "t_new = np.linspace(1.0/360, t[-1]-1.0/360, int(len(raw_data_clear)/F_S*360))\n",
    "# use interpolation function returned by `interp1d`\n",
    "raw_data_new_clear = f(t_new)\n",
    "xqrs_learn = processing.XQRS(sig=raw_data_new_clear, fs=360)\n",
    "xqrs_learn.detect()\n",
    "qrs_ind_new=xqrs_learn.qrs_inds"
   ]
  },
  {
   "cell_type": "markdown",
   "id": "24e4e5d6-e5d9-4f91-9d45-0eab5992ad08",
   "metadata": {},
   "source": [
    "## Failed to init signal parameters, but good output"
   ]
  },
  {
   "cell_type": "code",
   "execution_count": null,
   "id": "12a8ae03-74a2-44a9-bc18-e78e68286264",
   "metadata": {},
   "outputs": [],
   "source": [
    "fig = go.Figure()\n",
    "fig.add_trace(go.Scatter(x=t_new, y=raw_data_new_clear,mode='lines',name='signal',line_color='#037ffc'))\n",
    "fig.add_trace(go.Scatter(x=qrs_ind_new/360, y=raw_data_new_clear[qrs_ind_new],mode='markers',name='r peak',line_color='#fc3103'))\n",
    "fig.show()"
   ]
  },
  {
   "cell_type": "markdown",
   "id": "14313920-83e5-49c5-a71e-7193e62233ff",
   "metadata": {},
   "source": [
    "# Generated 1000 Hz ECG signal with White Gaussian Noise"
   ]
  },
  {
   "cell_type": "code",
   "execution_count": 8,
   "id": "feeb385c-c047-49ea-b4a8-02bcdff4993e",
   "metadata": {},
   "outputs": [],
   "source": [
    "ECG_data_noisy = pd.read_csv('/path/to/ecg_data_noisy.dat', sep=\" \", header=None)[0]\n",
    "raw_data_noisy=ECG_data_noisy.to_numpy('float')\n",
    "F_S=1000\n",
    "\n",
    "t=np.arange(np.size(raw_data_noisy))/F_S"
   ]
  },
  {
   "cell_type": "code",
   "execution_count": 9,
   "id": "5027eb1b-48ae-415c-b126-2e4317c6581c",
   "metadata": {},
   "outputs": [
    {
     "name": "stdout",
     "output_type": "stream",
     "text": [
      "Learning initial signal parameters...\n",
      "Failed to find 8 beats during learning.\n",
      "Initializing using default parameters\n",
      "Running QRS detection...\n",
      "QRS detection complete.\n"
     ]
    }
   ],
   "source": [
    "xqrs = processing.XQRS(sig=raw_data_noisy, fs=F_S)\n",
    "xqrs.detect(learn=True)\n",
    "qrs_ind=xqrs.qrs_inds"
   ]
  },
  {
   "cell_type": "markdown",
   "id": "9cd98771-bced-4474-93b7-e0d938780f7f",
   "metadata": {},
   "source": [
    "## Failed to init signal parameters, and bad output"
   ]
  },
  {
   "cell_type": "code",
   "execution_count": null,
   "id": "f34e6b74-ca29-48f4-8b7a-7735d8dddda9",
   "metadata": {},
   "outputs": [],
   "source": [
    "fig = go.Figure()\n",
    "fig.add_trace(go.Scatter(x=t, y=raw_data_noisy,mode='lines',name='signal',line_color='#037ffc'))\n",
    "fig.add_trace(go.Scatter(x=qrs_ind/F_S, y=raw_data_noisy[qrs_ind],mode='markers',name='r peak',line_color='#fc3103'))\n",
    "fig.show()"
   ]
  },
  {
   "cell_type": "markdown",
   "id": "873b0629-0496-4906-ba54-a83e327fad75",
   "metadata": {},
   "source": [
    "# Interpolate noisy signal to 360 Hz"
   ]
  },
  {
   "cell_type": "code",
   "execution_count": 11,
   "id": "5232c16d-170f-4f46-ba08-649da423c2e9",
   "metadata": {},
   "outputs": [
    {
     "name": "stdout",
     "output_type": "stream",
     "text": [
      "Learning initial signal parameters...\n",
      "Found 8 beats during learning. Initializing using learned parameters\n",
      "Running QRS detection...\n",
      "QRS detection complete.\n"
     ]
    }
   ],
   "source": [
    "f = interpolate.interp1d(t, raw_data_noisy)\n",
    "t_new = np.linspace(1.0/360, t[-1]-1.0/360, int(len(raw_data_noisy)/F_S*360))\n",
    "# use interpolation function returned by `interp1d`\n",
    "raw_data_new_noisy = f(t_new)\n",
    "xqrs_learn = processing.XQRS(sig=raw_data_new_noisy, fs=360)\n",
    "xqrs_learn.detect()\n",
    "qrs_ind_new=xqrs_learn.qrs_inds"
   ]
  },
  {
   "cell_type": "markdown",
   "id": "0e80bae6-47c1-4123-aef7-059cff199cd1",
   "metadata": {},
   "source": [
    "## Succeded to init signal parameters, and good output"
   ]
  },
  {
   "cell_type": "code",
   "execution_count": null,
   "id": "0a2c65b2-8672-4920-b343-d1e663389b38",
   "metadata": {},
   "outputs": [],
   "source": [
    "fig = go.Figure()\n",
    "fig.add_trace(go.Scatter(x=t_new, y=raw_data_new_noisy,mode='lines',name='signal',line_color='#037ffc'))\n",
    "fig.add_trace(go.Scatter(x=qrs_ind_new/360, y=raw_data_new_noisy[qrs_ind_new],mode='markers',name='r peak',line_color='#fc3103'))\n",
    "fig.show()"
   ]
  }
 ],
 "metadata": {
  "kernelspec": {
   "display_name": "Python 3",
   "language": "python",
   "name": "python3"
  },
  "language_info": {
   "codemirror_mode": {
    "name": "ipython",
    "version": 3
   },
   "file_extension": ".py",
   "mimetype": "text/x-python",
   "name": "python",
   "nbconvert_exporter": "python",
   "pygments_lexer": "ipython3",
   "version": "3.8.8"
  }
 },
 "nbformat": 4,
 "nbformat_minor": 5
}
