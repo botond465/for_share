{
 "cells": [
  {
   "cell_type": "code",
   "execution_count": 1,
   "id": "df57fa96-1b2a-421f-9e7c-e0fdb00d1b3f",
   "metadata": {},
   "outputs": [],
   "source": [
    "import pandas as pd\n",
    "import plotly.graph_objects as go\n",
    "import numpy as np\n",
    "import wfdb\n",
    "from wfdb import processing\n",
    "from scipy import interpolate"
   ]
  },
  {
   "cell_type": "code",
   "execution_count": 2,
   "id": "feeb385c-c047-49ea-b4a8-02bcdff4993e",
   "metadata": {},
   "outputs": [],
   "source": [
    "ECG_data = pd.read_csv('/path/to/ecg_data', sep=\" \", header=None)[0]\n",
    "raw_data=ECG_data.to_numpy('float')\n",
    "F_S=1000\n",
    "\n",
    "t=np.arange(np.size(raw_data))/F_S"
   ]
  },
  {
   "cell_type": "code",
   "execution_count": 3,
   "id": "a21fc304-efc0-4c68-ba65-4a5dfb549228",
   "metadata": {},
   "outputs": [
    {
     "name": "stdout",
     "output_type": "stream",
     "text": [
      "4.0.0a0\n"
     ]
    }
   ],
   "source": [
    "print(wfdb.__version__)"
   ]
  },
  {
   "cell_type": "code",
   "execution_count": 4,
   "id": "ee63d878-9fd4-4d28-896d-e5a40c32e8c7",
   "metadata": {},
   "outputs": [
    {
     "name": "stdout",
     "output_type": "stream",
     "text": [
      "Learning initial signal parameters...\n",
      "Failed to find 8 beats during learning.\n",
      "Initializing using default parameters\n",
      "Running QRS detection...\n",
      "QRS detection complete.\n"
     ]
    }
   ],
   "source": [
    "xqrs = processing.XQRS(sig=raw_data, fs=F_S)\n",
    "xqrs.detect(learn=True)\n",
    "qrs_ind=xqrs.qrs_inds"
   ]
  },
  {
   "cell_type": "code",
   "execution_count": null,
   "id": "617b917d-1c28-479d-9495-95b87f3be265",
   "metadata": {},
   "outputs": [],
   "source": [
    "fig = go.Figure()\n",
    "fig.add_trace(go.Scatter(x=t, y=raw_data,mode='lines',name='signal',line_color='#037ffc'))\n",
    "fig.add_trace(go.Scatter(x=qrs_ind/F_S, y=raw_data[qrs_ind],mode='markers',name='r peak',line_color='#fc3103'))\n",
    "fig.show()"
   ]
  },
  {
   "cell_type": "code",
   "execution_count": 6,
   "id": "0caab14e-dc82-4776-944a-5576c4752baf",
   "metadata": {},
   "outputs": [
    {
     "name": "stdout",
     "output_type": "stream",
     "text": [
      "Learning initial signal parameters...\n",
      "Found 8 beats during learning. Initializing using learned parameters\n",
      "Running QRS detection...\n",
      "QRS detection complete.\n"
     ]
    }
   ],
   "source": [
    "f = interpolate.interp1d(t, raw_data)\n",
    "t_new = np.linspace(1.0/360, t[-1]-1.0/360, int(len(raw_data)/F_S*360))\n",
    "# use interpolation function returned by `interp1d`\n",
    "raw_data_new = f(t_new)\n",
    "xqrs_learn = processing.XQRS(sig=raw_data_new, fs=360)\n",
    "xqrs_learn.detect()\n",
    "qrs_ind_new=xqrs_learn.qrs_inds"
   ]
  },
  {
   "cell_type": "code",
   "execution_count": null,
   "id": "12a8ae03-74a2-44a9-bc18-e78e68286264",
   "metadata": {},
   "outputs": [],
   "source": [
    "fig = go.Figure()\n",
    "fig.add_trace(go.Scatter(x=t_new, y=raw_data_new,mode='lines',name='signal',line_color='#037ffc'))\n",
    "fig.add_trace(go.Scatter(x=qrs_ind_new/360, y=raw_data_new[qrs_ind_new],mode='markers',name='r peak',line_color='#fc3103'))\n",
    "fig.show()"
   ]
  }
 ],
 "metadata": {
  "kernelspec": {
   "display_name": "Python 3",
   "language": "python",
   "name": "python3"
  },
  "language_info": {
   "codemirror_mode": {
    "name": "ipython",
    "version": 3
   },
   "file_extension": ".py",
   "mimetype": "text/x-python",
   "name": "python",
   "nbconvert_exporter": "python",
   "pygments_lexer": "ipython3",
   "version": "3.8.8"
  }
 },
 "nbformat": 4,
 "nbformat_minor": 5
}
